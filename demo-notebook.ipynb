{
 "cells": [
  {
   "cell_type": "code",
   "execution_count": null,
   "id": "7554dffb",
   "metadata": {},
   "outputs": [],
   "source": [
    "from google.cloud import bigquery"
   ]
  },
  {
   "cell_type": "code",
   "execution_count": 8,
   "id": "1addced0",
   "metadata": {},
   "outputs": [],
   "source": [
    "PROJECT_ID   = \"bq-ai-hackaton\"\n",
    "LOCATION     = \"us-central1\"\n",
    "GEMINI_MODEL = \"gemini-2.5-pro\""
   ]
  },
  {
   "cell_type": "code",
   "execution_count": 4,
   "id": "ac663eb3",
   "metadata": {},
   "outputs": [],
   "source": [
    "client = bigquery.Client(project=PROJECT_ID, location=LOCATION)"
   ]
  },
  {
   "cell_type": "code",
   "execution_count": 4,
   "id": "24b3762e",
   "metadata": {},
   "outputs": [],
   "source": [
    "VIDEO_ANALYSIS_PROMPT = \"\"\"\n",
    "# ROLE AND GOAL\n",
    "You are a state-of-the-art AI visual analysis system with an expert specialization in human identification within video footage.\n",
    "Your primary mission is to analyze the provided video for a critical missing person case with the highest degree of accuracy and diligence.\n",
    "You must be methodical and detail-oriented in your analysis and reporting.\n",
    "\n",
    "# TASK CONTEXT\n",
    "This is a high-priority, time-sensitive analysis.\n",
    "The provided video is a security footage from the street.\n",
    "The objective is to determine if the missing person is visible in this video, and if so, to extract all relevant information about their presence.\n",
    "\n",
    "# MISSING PERSON DATA\n",
    "Carefully analyze the following description of the missing person. Every detail is crucial.\n",
    "\n",
    "- **Gender:** `{gender}`\n",
    "- **Approximate Age:** `{age}`\n",
    "- **Build / Height:** `{build_height}`\n",
    "- **Hair Color and Style:** `{hair}`\n",
    "- **Clothing (Top):** `{clothing_top}`\n",
    "- **Clothing (Bottom):** `{clothing_botton}`\n",
    "- **Footwear:** `{footwear}`\n",
    "- **Accessories:** `{accessories}`\n",
    "- **Distinguishing Features:** `{features}`\n",
    "\n",
    "# ANALYSIS INSTRUCTIONS\n",
    "You must perform the following steps in your analysis:\n",
    "\n",
    "1.  **Full Video Scan:** Meticulously review the entire video from start to finish. Do not stop after a potential first match; the person may appear multiple times.\n",
    "2.  **Feature Matching:** Compare every individual in the video against the `MISSING PERSON DATA`. Assess matches based on all available criteria: clothing, build, hair, accessories, and any visible distinguishing features or mannerisms.\n",
    "3.  **Confidence Score Calculation:** Based on your feature matching, calculate a confidence score from `0.0` (no match) to `1.0` (positive identification with multiple strong corroborating features). The score must be based on the quality and quantity of matching attributes. A partial clothing match is a low score; a match on clothing, build, and a distinguishing feature is a very high score.\n",
    "4.  **Justification:** You MUST provide a step-by-step justification for your confidence score. List the features that matched, the features that did not match, and any features that were ambiguous or obscured (e.g., 'Face was unclear, but clothing is a 90% match').\n",
    "5.  **Contextual Analysis (If Found):** If you identify the person with a confidence score greater than `0.7`:\n",
    "    -   Note the exact timestamp(s) (in `HH:MM:SS` format) of their appearance.\n",
    "    -   Describe their actions and behavior (e.g., 'walking quickly', 'talking on the phone', 'sitting on a bench', 'seemed distressed').\n",
    "    -   Analyze if they are with anyone else. If so, provide a detailed description of each companion (gender, estimated age, clothing, etc.).\n",
    "    -   Describe their direction of travel.\n",
    "\"\"\"\n",
    "VIDEO_ANALYSIS_PROMPT_OUTPUT = \"\"\"\n",
    "# OUTPUT FORMAT\n",
    "Your final output MUST be a single JSON object. Do not include any text or explanations outside of this JSON structure.\n",
    "\n",
    "**If the person is found (confidence > 0.7):**\n",
    "```json\n",
    "{\n",
    "  \"personFound\": true,\n",
    "  \"confidenceScore\": <float between 0.7 and 1.0>,\n",
    "  \"matchJustification\": \"A detailed explanation of why the confidence score was given. List all matching and non-matching features. Example: 'Confidence is high due to a perfect match on the red hooded sweatshirt, blue jeans, and black backpack. Subject's build and hair color are also consistent. Face was partially obscured, preventing a 1.0 score.'\",\n",
    "  \"summaryOfFindings\": \"A concise, human-readable summary of the events. Example: 'The missing person was spotted at 00:14:32 walking east on the station platform. They appeared to be alone and were walking at a normal pace while looking at their phone.'\",\n",
    "  \"appearances\": [\n",
    "    {\n",
    "      \"timestampStart\": \"HH:MM:SS\",\n",
    "      \"timestampEnd\": \"HH:MM:SS\",\n",
    "      \"actionsAndBehavior\": \"Detailed description of what the subject is doing during this specific timeframe.\",\n",
    "      \"directionOfTravel\": \"e.g., Northbound, Towards the exit, Away from the camera\",\n",
    "      \"companions\": [\n",
    "        {\n",
    "          \"description\": \"Detailed description of companion 1: Gender, estimated age, build, hair, clothing (top, bottom, shoes), and any notable accessories or features.\"\n",
    "        }\n",
    "      ]\n",
    "    }\n",
    "  ]\n",
    "}\n",
    "```\n",
    "**If the person is found (confidence > 0.7):**\n",
    "```json\n",
    "{\n",
    "  \"personFound\": false,\n",
    "  \"confidenceScore\": <float between 0.0 and 0.7>,\n",
    "  \"matchJustification\": \"Explain why the person was not found or why confidence is low. Example: 'Scanned the entire video. Several individuals matched the general build, but none matched the specific red hooded sweatshirt and white sneaker combination described. Therefore, confidence is very low.'\",\n",
    "  \"summaryOfFindings\": \"A concise statement of the negative finding. Example: 'After a thorough analysis of the entire video footage, there was no individual matching the provided description of the missing person.'\",\n",
    "  \"appearances\": [],\n",
    "  \"companions\": []\n",
    "}\n",
    "```\n",
    "\"\"\""
   ]
  },
  {
   "cell_type": "code",
   "execution_count": null,
   "id": "b8b81cc2",
   "metadata": {},
   "outputs": [],
   "source": [
    "VIDEO_ANALYSIS_PROMPT = VIDEO_ANALYSIS_PROMPT.format(\n",
    "gender            =\"Female\",\n",
    "age               =\"35\",\n",
    "build_height      =\"1.7m, 80kg\",\n",
    "hair              =\"Black hair, sporty\",\n",
    "clothing_top      =\"Blue shirt\",\n",
    "clothing_botton   =\"Blue pants\",\n",
    "footwear          =\"White snikers\",\n",
    "accessories       =\"Dark glasses\",\n",
    "features          =\"None\"\n",
    ")\n"
   ]
  },
  {
   "cell_type": "code",
   "execution_count": 6,
   "id": "a1c04840",
   "metadata": {},
   "outputs": [],
   "source": [
    "VIDEO_ANALYSIS_PROMPT = VIDEO_ANALYSIS_PROMPT + \"\\n\" +VIDEO_ANALYSIS_PROMPT_OUTPUT"
   ]
  },
  {
   "cell_type": "code",
   "execution_count": 10,
   "id": "565deef1",
   "metadata": {},
   "outputs": [],
   "source": [
    "VIDEO_ANALYSIS_BQ_QUERY = \"\"\"\n",
    "SELECT\n",
    "  uri,\n",
    "  AI.GENERATE(({VIDEO_ANALYSIS_PROMPT}, '\\nRecording:  ', OBJ.GET_ACCESS_URL(ref, 'r')),\n",
    "    connection_id => 'bq-ai-hackaton.us-central1.homeward_gcp_connection',\n",
    "    endpoint => 'gemini-2.5-pro',\n",
    "    model_params => JSON '{\"generation_config\": {\"temperature\": 0}}').result\n",
    "FROM `homeward.video_objects`;\n",
    "\"\"\".replace(\"{VIDEO_ANALYSIS_PROMPT}\",VIDEO_ANALYSIS_PROMPT)"
   ]
  },
  {
   "cell_type": "code",
   "execution_count": 12,
   "id": "7726364b",
   "metadata": {},
   "outputs": [
    {
     "data": {
      "text/plain": [
       "'\\nSELECT\\n  uri,\\n  AI.GENERATE((\\n# ROLE AND GOAL\\nYou are a state-of-the-art AI visual analysis system with an expert specialization in human identification within video footage.\\nYour primary mission is to analyze the provided video for a critical missing person case with the highest degree of accuracy and diligence.\\nYou must be methodical and detail-oriented in your analysis and reporting.\\n\\n# TASK CONTEXT\\nThis is a high-priority, time-sensitive analysis.\\nThe provided video is a security footage from the street.\\nThe objective is to determine if the missing person is visible in this video, and if so, to extract all relevant information about their presence.\\n\\n# MISSING PERSON DATA\\nCarefully analyze the following description of the missing person. Every detail is crucial.\\n\\n- **Gender:** `Female`\\n- **Approximate Age:** `35`\\n- **Build / Height:** `1.7m, 80kg`\\n- **Hair Color and Style:** `Black hair, sporty`\\n- **Clothing (Top):** `Blue shirt`\\n- **Clothing (Bottom):** `Blue pants`\\n- **Footwear:** `White snikers`\\n- **Accessories:** `Dark glasses`\\n- **Distinguishing Features:** `None`\\n\\n# ANALYSIS INSTRUCTIONS\\nYou must perform the following steps in your analysis:\\n\\n1.  **Full Video Scan:** Meticulously review the entire video from start to finish. Do not stop after a potential first match; the person may appear multiple times.\\n2.  **Feature Matching:** Compare every individual in the video against the `MISSING PERSON DATA`. Assess matches based on all available criteria: clothing, build, hair, accessories, and any visible distinguishing features or mannerisms.\\n3.  **Confidence Score Calculation:** Based on your feature matching, calculate a confidence score from `0.0` (no match) to `1.0` (positive identification with multiple strong corroborating features). The score must be based on the quality and quantity of matching attributes. A partial clothing match is a low score; a match on clothing, build, and a distinguishing feature is a very high score.\\n4.  **Justification:** You MUST provide a step-by-step justification for your confidence score. List the features that matched, the features that did not match, and any features that were ambiguous or obscured (e.g., \\'Face was unclear, but clothing is a 90% match\\').\\n5.  **Contextual Analysis (If Found):** If you identify the person with a confidence score greater than `0.7`:\\n    -   Note the exact timestamp(s) (in `HH:MM:SS` format) of their appearance.\\n    -   Describe their actions and behavior (e.g., \\'walking quickly\\', \\'talking on the phone\\', \\'sitting on a bench\\', \\'seemed distressed\\').\\n    -   Analyze if they are with anyone else. If so, provide a detailed description of each companion (gender, estimated age, clothing, etc.).\\n    -   Describe their direction of travel.\\n\\n\\n# OUTPUT FORMAT\\nYour final output MUST be a single JSON object. Do not include any text or explanations outside of this JSON structure.\\n\\n**If the person is found (confidence > 0.7):**\\n```json\\n{\\n  \"personFound\": true,\\n  \"confidenceScore\": <float between 0.7 and 1.0>,\\n  \"matchJustification\": \"A detailed explanation of why the confidence score was given. List all matching and non-matching features. Example: \\'Confidence is high due to a perfect match on the red hooded sweatshirt, blue jeans, and black backpack. Subject\\'s build and hair color are also consistent. Face was partially obscured, preventing a 1.0 score.\\'\",\\n  \"summaryOfFindings\": \"A concise, human-readable summary of the events. Example: \\'The missing person was spotted at 00:14:32 walking east on the station platform. They appeared to be alone and were walking at a normal pace while looking at their phone.\\'\",\\n  \"appearances\": [\\n    {\\n      \"timestampStart\": \"HH:MM:SS\",\\n      \"timestampEnd\": \"HH:MM:SS\",\\n      \"actionsAndBehavior\": \"Detailed description of what the subject is doing during this specific timeframe.\",\\n      \"directionOfTravel\": \"e.g., Northbound, Towards the exit, Away from the camera\",\\n      \"companions\": [\\n        {\\n          \"description\": \"Detailed description of companion 1: Gender, estimated age, build, hair, clothing (top, bottom, shoes), and any notable accessories or features.\"\\n        }\\n      ]\\n    }\\n  ]\\n}\\n```\\n**If the person is found (confidence > 0.7):**\\n```json\\n{\\n  \"personFound\": false,\\n  \"confidenceScore\": <float between 0.0 and 0.7>,\\n  \"matchJustification\": \"Explain why the person was not found or why confidence is low. Example: \\'Scanned the entire video. Several individuals matched the general build, but none matched the specific red hooded sweatshirt and white sneaker combination described. Therefore, confidence is very low.\\'\",\\n  \"summaryOfFindings\": \"A concise statement of the negative finding. Example: \\'After a thorough analysis of the entire video footage, there was no individual matching the provided description of the missing person.\\'\",\\n  \"appearances\": [],\\n  \"companions\": []\\n}\\n```\\n, \\'\\nRecording:  \\', OBJ.GET_ACCESS_URL(ref, \\'r\\')),\\n    connection_id => \\'bq-ai-hackaton.us-central1.homeward_gcp_connection\\',\\n    endpoint => \\'gemini-2.5-pro\\',\\n    model_params => JSON \\'{\"generation_config\": {\"temperature\": 0}}\\').result\\nFROM `homeward.video_objects`;\\n'"
      ]
     },
     "execution_count": 12,
     "metadata": {},
     "output_type": "execute_result"
    }
   ],
   "source": [
    "VIDEO_ANALYSIS_BQ_QUERY"
   ]
  },
  {
   "cell_type": "code",
   "execution_count": null,
   "id": "f1feaf52",
   "metadata": {},
   "outputs": [],
   "source": []
  }
 ],
 "metadata": {
  "kernelspec": {
   "display_name": ".venv (3.9.6)",
   "language": "python",
   "name": "python3"
  },
  "language_info": {
   "codemirror_mode": {
    "name": "ipython",
    "version": 3
   },
   "file_extension": ".py",
   "mimetype": "text/x-python",
   "name": "python",
   "nbconvert_exporter": "python",
   "pygments_lexer": "ipython3",
   "version": "3.9.6"
  }
 },
 "nbformat": 4,
 "nbformat_minor": 5
}
