{
 "cells": [
  {
   "cell_type": "code",
   "execution_count": null,
   "id": "ab03f260",
   "metadata": {},
   "outputs": [],
   "source": [
    "CREATE MODEL IF NOT EXISTS `bq-ai-hackaton.homeward.gemini_2_5_pro_global`\n",
    "  REMOTE WITH CONNECTION `bq-ai-hackaton.us-central1.homeward_gcp_connection`\n",
    "  OPTIONS (\n",
    "    ENDPOINT = 'https://aiplatform.googleapis.com/v1/projects/bq-ai-hackaton/locations/global/publishers/google/models/gemini-2.5-pro'\n",
    "  );"
   ]
  },
  {
   "cell_type": "markdown",
   "id": "f11d02ee",
   "metadata": {},
   "source": [
    "# Manual cache refresh does not work, see (/Users/danilotrombino/Documents/Dev/Google/BQ Hackathon/missing-finder/img/Schermata 2025-09-13 alle 23.45.09.png)"
   ]
  },
  {
   "cell_type": "code",
   "execution_count": null,
   "id": "0abe46b2",
   "metadata": {},
   "outputs": [],
   "source": [
    "# Generate text does not work with the obj table, tried both global and regional endpoint\n",
    "SELECT\n",
    "  ml_generate_text_llm_result\n",
    "FROM\n",
    "  ML.GENERATE_TEXT(\n",
    "    MODEL `homeward.gemini_2_5_pro_global`,\n",
    "    TABLE `homeward.video_objects`,\n",
    "    STRUCT(\n",
    "      \"Get the number of persons within the video\" AS prompt,\n",
    "      TRUE AS FLATTEN_JSON_OUTPUT));"
   ]
  },
  {
   "cell_type": "code",
   "execution_count": null,
   "id": "39f5748d",
   "metadata": {},
   "outputs": [],
   "source": [
    "# Generate text does not work treating the obj table as a standard table, tried both global and regional endpoint\n",
    "SELECT\n",
    "  ml_generate_text_llm_result\n",
    "FROM\n",
    "  ML.GENERATE_TEXT(\n",
    "    MODEL `homeward.gemini_2_5_pro_global`,\n",
    "    (\n",
    "      SELECT\n",
    "        (VIDEO_PROMPT, '\\nRecording:  ', OBJ.GET_ACCESS_URL(ref, 'r')) AS prompt\n",
    "      FROM `homeward.video_objects`\n",
    "    ),\n",
    "    STRUCT(\n",
    "      TRUE AS FLATTEN_JSON_OUTPUT));"
   ]
  }
 ],
 "metadata": {
  "language_info": {
   "name": "python"
  }
 },
 "nbformat": 4,
 "nbformat_minor": 5
}
